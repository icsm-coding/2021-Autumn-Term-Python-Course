{
 "cells": [
  {
   "cell_type": "markdown",
   "id": "08986a96",
   "metadata": {},
   "source": [
    "### Installing pandas library using pip"
   ]
  },
  {
   "cell_type": "code",
   "execution_count": 1,
   "id": "cbcdef4d",
   "metadata": {},
   "outputs": [
    {
     "name": "stdout",
     "output_type": "stream",
     "text": [
      "Requirement already satisfied: pandas in /home/charlie/.local/lib/python3.8/site-packages (1.3.2)\n",
      "Requirement already satisfied: python-dateutil>=2.7.3 in /usr/lib/python3/dist-packages (from pandas) (2.7.3)\n",
      "Requirement already satisfied: pytz>=2017.3 in /home/charlie/.local/lib/python3.8/site-packages (from pandas) (2021.1)\n",
      "Requirement already satisfied: numpy>=1.17.3 in /home/charlie/.local/lib/python3.8/site-packages (from pandas) (1.21.2)\n"
     ]
    }
   ],
   "source": [
    "import sys\n",
    "!{sys.executable} -m pip install pandas"
   ]
  },
  {
   "cell_type": "markdown",
   "id": "a9f96ebf",
   "metadata": {},
   "source": [
    "### Importing pandas library\n",
    "NOTE: We can use the as keyword 'as' to use the shorthand 'pd'."
   ]
  },
  {
   "cell_type": "code",
   "execution_count": 2,
   "id": "4533d7a7",
   "metadata": {},
   "outputs": [],
   "source": [
    "import pandas as pd"
   ]
  },
  {
   "cell_type": "markdown",
   "id": "8d26d1b1",
   "metadata": {},
   "source": [
    "# Creating a pandas DataFrame object for patient info\n",
    "###### We use pd.DataFrame() method, which takes in some keyword arguments: data & columns\n",
    "###### NOTE: In Jupyter Notebook, we write df rather than print(df)\n"
   ]
  },
  {
   "cell_type": "code",
   "execution_count": null,
   "id": "d61a1001",
   "metadata": {},
   "outputs": [],
   "source": []
  },
  {
   "cell_type": "markdown",
   "id": "3f1ec01f",
   "metadata": {},
   "source": [
    "## 'Attributes' of our DataFrame\n",
    "###### Click this link and scroll down to 'attributes' (a.k.a. properties): https://pandas.pydata.org/docs/reference/api/pandas.DataFrame.html\n"
   ]
  },
  {
   "cell_type": "markdown",
   "id": "1cbb5e26",
   "metadata": {},
   "source": [
    "###### df.columns: returrns the NAMES of columns in the DataFrame"
   ]
  },
  {
   "cell_type": "code",
   "execution_count": null,
   "id": "8f0ab9c0",
   "metadata": {},
   "outputs": [],
   "source": []
  },
  {
   "cell_type": "markdown",
   "id": "73bd6511",
   "metadata": {},
   "source": [
    "###### df.shape: returns the (number of rows, number of columns) in the DataFrame"
   ]
  },
  {
   "cell_type": "code",
   "execution_count": null,
   "id": "927eda4d",
   "metadata": {},
   "outputs": [],
   "source": []
  },
  {
   "cell_type": "markdown",
   "id": "3dc4cfe1",
   "metadata": {},
   "source": [
    "# Accessing cells in the DataFrame"
   ]
  },
  {
   "cell_type": "markdown",
   "id": "f7006f03",
   "metadata": {},
   "source": [
    "## Using df.iloc[]\n",
    "###### (stands for integer-location)\n",
    "We can pass in 1 or 2 parameters in the square brackets: df.iloc[row_index, column_index (optional)]"
   ]
  },
  {
   "cell_type": "code",
   "execution_count": 3,
   "id": "e708cdc2",
   "metadata": {},
   "outputs": [
    {
     "ename": "NameError",
     "evalue": "name 'df' is not defined",
     "output_type": "error",
     "traceback": [
      "\u001b[0;31m---------------------------------------------------------------------------\u001b[0m",
      "\u001b[0;31mNameError\u001b[0m                                 Traceback (most recent call last)",
      "\u001b[0;32m/tmp/ipykernel_44143/1396537375.py\u001b[0m in \u001b[0;36m<module>\u001b[0;34m\u001b[0m\n\u001b[0;32m----> 1\u001b[0;31m \u001b[0mdf\u001b[0m\u001b[0;34m\u001b[0m\u001b[0;34m\u001b[0m\u001b[0m\n\u001b[0m",
      "\u001b[0;31mNameError\u001b[0m: name 'df' is not defined"
     ]
    }
   ],
   "source": [
    "df"
   ]
  },
  {
   "cell_type": "markdown",
   "id": "d4bcd27f",
   "metadata": {},
   "source": [
    "1. Accessing element in 1st row (0th index), 2nd column (1st index):"
   ]
  },
  {
   "cell_type": "code",
   "execution_count": null,
   "id": "80e6b871",
   "metadata": {},
   "outputs": [],
   "source": []
  },
  {
   "cell_type": "markdown",
   "id": "70f33398",
   "metadata": {},
   "source": [
    "2. Accessing 1st row. NOTE: leaving column_index blank means all columns are accessed"
   ]
  },
  {
   "cell_type": "code",
   "execution_count": null,
   "id": "273e52eb",
   "metadata": {},
   "outputs": [],
   "source": []
  },
  {
   "cell_type": "markdown",
   "id": "e4f80575",
   "metadata": {},
   "source": [
    "3. Accessing all rows other than row 1 & all columns. NOTE: use list slicing syntax to select multiple columns"
   ]
  },
  {
   "cell_type": "code",
   "execution_count": null,
   "id": "e4db14f3",
   "metadata": {},
   "outputs": [],
   "source": []
  },
  {
   "cell_type": "code",
   "execution_count": null,
   "id": "f1914e38",
   "metadata": {},
   "outputs": [],
   "source": [
    "df"
   ]
  },
  {
   "cell_type": "markdown",
   "id": "2981badc",
   "metadata": {},
   "source": [
    "4. CHALLENGE: Can you access 'Alex' from the DataFrame?"
   ]
  },
  {
   "cell_type": "code",
   "execution_count": null,
   "id": "80cbf2f7",
   "metadata": {},
   "outputs": [],
   "source": []
  },
  {
   "cell_type": "markdown",
   "id": "aadc25f9",
   "metadata": {},
   "source": [
    "5. CHALLENGE: Can you access the name & age columns of the 1st and 2nd rows?"
   ]
  },
  {
   "cell_type": "code",
   "execution_count": null,
   "id": "8f9660ae",
   "metadata": {},
   "outputs": [],
   "source": []
  },
  {
   "cell_type": "markdown",
   "id": "107e58b0",
   "metadata": {},
   "source": [
    "## Accessing rows using df.loc[]"
   ]
  },
  {
   "cell_type": "markdown",
   "id": "3380b3d2",
   "metadata": {},
   "source": [
    "This method accesses rows based on the value of the index column. You can find out what the index column is with the attribute df.index"
   ]
  },
  {
   "cell_type": "code",
   "execution_count": null,
   "id": "036a7b35",
   "metadata": {},
   "outputs": [],
   "source": []
  },
  {
   "cell_type": "markdown",
   "id": "8ed4ff24",
   "metadata": {},
   "source": [
    "Accessing row corresponding to index column value 0"
   ]
  },
  {
   "cell_type": "code",
   "execution_count": null,
   "id": "31912864",
   "metadata": {},
   "outputs": [],
   "source": []
  },
  {
   "cell_type": "markdown",
   "id": "bed28eeb",
   "metadata": {},
   "source": [
    "### Setting the index column of the DataFrame\n",
    "To change the index column to something more useful, we use df.set_index() and pass in the name of the column."
   ]
  },
  {
   "cell_type": "code",
   "execution_count": null,
   "id": "39d1929b",
   "metadata": {},
   "outputs": [],
   "source": []
  },
  {
   "cell_type": "markdown",
   "id": "0dc6de68",
   "metadata": {},
   "source": [
    "### Accessing rows using df.loc[]"
   ]
  },
  {
   "cell_type": "markdown",
   "id": "8fa352e5",
   "metadata": {},
   "source": [
    "1. Accessing the row corresponding to a patientID of 123 (1st row)"
   ]
  },
  {
   "cell_type": "code",
   "execution_count": null,
   "id": "fd50ad80",
   "metadata": {},
   "outputs": [],
   "source": []
  },
  {
   "cell_type": "markdown",
   "id": "3f6bac2b",
   "metadata": {},
   "source": [
    "2. Accessing the row corresponding to a patientID of 789 (3rd row)"
   ]
  },
  {
   "cell_type": "code",
   "execution_count": null,
   "id": "f52ab0de",
   "metadata": {},
   "outputs": [],
   "source": []
  },
  {
   "cell_type": "markdown",
   "id": "f9250e90",
   "metadata": {},
   "source": [
    "## Accessing columns"
   ]
  },
  {
   "cell_type": "code",
   "execution_count": null,
   "id": "3dd8f625",
   "metadata": {},
   "outputs": [],
   "source": []
  },
  {
   "cell_type": "markdown",
   "id": "dc2380a8",
   "metadata": {},
   "source": [
    "### Can access the 'age' column using:"
   ]
  },
  {
   "cell_type": "code",
   "execution_count": null,
   "id": "239904c5",
   "metadata": {},
   "outputs": [],
   "source": []
  },
  {
   "cell_type": "markdown",
   "id": "cb0950c1",
   "metadata": {},
   "source": [
    "## Accessing rows based on the values of certain columns\n",
    "### Syntax is: df[condition to satisfy]"
   ]
  },
  {
   "cell_type": "code",
   "execution_count": null,
   "id": "8ae211fe",
   "metadata": {},
   "outputs": [],
   "source": []
  },
  {
   "cell_type": "markdown",
   "id": "d06c9fe2",
   "metadata": {},
   "source": [
    "### Example: accessing rows where 'age' column = 20"
   ]
  },
  {
   "cell_type": "code",
   "execution_count": null,
   "id": "9630b05c",
   "metadata": {},
   "outputs": [],
   "source": []
  },
  {
   "cell_type": "markdown",
   "id": "28795727",
   "metadata": {},
   "source": [
    "### CHALLENGE: Can you access the row where the 'name' column = 'Ben'"
   ]
  },
  {
   "cell_type": "code",
   "execution_count": null,
   "id": "e349a4f0",
   "metadata": {},
   "outputs": [],
   "source": []
  }
 ],
 "metadata": {
  "kernelspec": {
   "display_name": "Python 3 (ipykernel)",
   "language": "python",
   "name": "python3"
  },
  "language_info": {
   "codemirror_mode": {
    "name": "ipython",
    "version": 3
   },
   "file_extension": ".py",
   "mimetype": "text/x-python",
   "name": "python",
   "nbconvert_exporter": "python",
   "pygments_lexer": "ipython3",
   "version": "3.8.10"
  }
 },
 "nbformat": 4,
 "nbformat_minor": 5
}
