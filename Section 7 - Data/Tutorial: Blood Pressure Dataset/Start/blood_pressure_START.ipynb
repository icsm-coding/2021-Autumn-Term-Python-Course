{
 "cells": [
  {
   "cell_type": "code",
   "execution_count": 62,
   "id": "4585889c",
   "metadata": {},
   "outputs": [
    {
     "name": "stdout",
     "output_type": "stream",
     "text": [
      "Requirement already satisfied: pandas in /home/charlie/.local/lib/python3.8/site-packages (1.3.2)\n",
      "Requirement already satisfied: python-dateutil>=2.7.3 in /usr/lib/python3/dist-packages (from pandas) (2.7.3)\n",
      "Requirement already satisfied: pytz>=2017.3 in /home/charlie/.local/lib/python3.8/site-packages (from pandas) (2021.1)\n",
      "Requirement already satisfied: numpy>=1.17.3 in /home/charlie/.local/lib/python3.8/site-packages (from pandas) (1.21.2)\n",
      "Requirement already satisfied: matplotlib in /home/charlie/.local/lib/python3.8/site-packages (3.4.3)\n",
      "Requirement already satisfied: cycler>=0.10 in /home/charlie/.local/lib/python3.8/site-packages (from matplotlib) (0.10.0)\n",
      "Requirement already satisfied: numpy>=1.16 in /home/charlie/.local/lib/python3.8/site-packages (from matplotlib) (1.21.2)\n",
      "Requirement already satisfied: kiwisolver>=1.0.1 in /home/charlie/.local/lib/python3.8/site-packages (from matplotlib) (1.3.1)\n",
      "Requirement already satisfied: pyparsing>=2.2.1 in /home/charlie/.local/lib/python3.8/site-packages (from matplotlib) (2.4.7)\n",
      "Requirement already satisfied: pillow>=6.2.0 in /home/charlie/.local/lib/python3.8/site-packages (from matplotlib) (8.3.1)\n",
      "Requirement already satisfied: python-dateutil>=2.7 in /usr/lib/python3/dist-packages (from matplotlib) (2.7.3)\n",
      "Requirement already satisfied: six in /usr/lib/python3/dist-packages (from cycler>=0.10->matplotlib) (1.14.0)\n",
      "Requirement already satisfied: seaborn in /home/charlie/.local/lib/python3.8/site-packages (0.11.2)\n",
      "Requirement already satisfied: scipy>=1.0 in /home/charlie/.local/lib/python3.8/site-packages (from seaborn) (1.7.1)\n",
      "Requirement already satisfied: matplotlib>=2.2 in /home/charlie/.local/lib/python3.8/site-packages (from seaborn) (3.4.3)\n",
      "Requirement already satisfied: numpy>=1.15 in /home/charlie/.local/lib/python3.8/site-packages (from seaborn) (1.21.2)\n",
      "Requirement already satisfied: pandas>=0.23 in /home/charlie/.local/lib/python3.8/site-packages (from seaborn) (1.3.2)\n",
      "Requirement already satisfied: cycler>=0.10 in /home/charlie/.local/lib/python3.8/site-packages (from matplotlib>=2.2->seaborn) (0.10.0)\n",
      "Requirement already satisfied: pillow>=6.2.0 in /home/charlie/.local/lib/python3.8/site-packages (from matplotlib>=2.2->seaborn) (8.3.1)\n",
      "Requirement already satisfied: pyparsing>=2.2.1 in /home/charlie/.local/lib/python3.8/site-packages (from matplotlib>=2.2->seaborn) (2.4.7)\n",
      "Requirement already satisfied: kiwisolver>=1.0.1 in /home/charlie/.local/lib/python3.8/site-packages (from matplotlib>=2.2->seaborn) (1.3.1)\n",
      "Requirement already satisfied: python-dateutil>=2.7 in /usr/lib/python3/dist-packages (from matplotlib>=2.2->seaborn) (2.7.3)\n",
      "Requirement already satisfied: pytz>=2017.3 in /home/charlie/.local/lib/python3.8/site-packages (from pandas>=0.23->seaborn) (2021.1)\n",
      "Requirement already satisfied: six in /usr/lib/python3/dist-packages (from cycler>=0.10->matplotlib>=2.2->seaborn) (1.14.0)\n"
     ]
    }
   ],
   "source": [
    "import sys\n",
    "!{sys.executable} -m pip install pandas\n",
    "!{sys.executable} -m pip install matplotlib\n",
    "!{sys.executable} -m pip install seaborn\n",
    "\n",
    "# import sys\n",
    "# !conda install --yes --prefix {sys.prefix} numpy\n",
    "# !conda install --yes --prefix {sys.prefix} matplotlib\n",
    "# !conda install --yes --prefix {sys.prefix} pandas"
   ]
  },
  {
   "cell_type": "code",
   "execution_count": 63,
   "id": "209263fb",
   "metadata": {},
   "outputs": [],
   "source": [
    "import pandas as pd\n",
    "import seaborn as sns\n",
    "import matplotlib.pyplot as plt"
   ]
  },
  {
   "cell_type": "markdown",
   "id": "a857773f",
   "metadata": {},
   "source": [
    "# THE DATASET\n",
    "Before you start, go to this link: https://apps.who.int/gho/data/node.dementia & watch the 'Download the dataset' video from section 6 to download the dataset. It shows how the blood pressure in countries has varied from 1975 to 2015. Each year has seperate columns for 'Both sexes', 'Male' & 'Female'. The values in the table are in the string format: '{average} [{range}]'. The data will need to be cleaned before it can be visualized"
   ]
  },
  {
   "cell_type": "code",
   "execution_count": 64,
   "id": "3232abf6",
   "metadata": {},
   "outputs": [],
   "source": []
  },
  {
   "cell_type": "code",
   "execution_count": null,
   "id": "782f7781",
   "metadata": {},
   "outputs": [],
   "source": []
  },
  {
   "cell_type": "markdown",
   "id": "a632fd14",
   "metadata": {},
   "source": [
    "## Objectives:\n",
    "1. Rename the columns so they display the information from the 3rd row.\n",
    "2. Remove the first 3 rows.\n",
    "3. Make the country column the index column.\n",
    "4. Convert blood pressure data from having average and range to just having average\n",
    "5. Create a smaller dataframe only containing the (Both sexes) data\n",
    "6. Convert the blood pressure data from strings to floats\n",
    "7. Transpose the data so it fits seaborn's lineplot method.\n",
    "8. Reverse the data so the years ascend from left to right."
   ]
  },
  {
   "cell_type": "markdown",
   "id": "fe978b0d",
   "metadata": {},
   "source": [
    "# 1. Renaming columns"
   ]
  },
  {
   "cell_type": "code",
   "execution_count": null,
   "id": "a3f6d355",
   "metadata": {},
   "outputs": [],
   "source": []
  },
  {
   "cell_type": "markdown",
   "id": "f32722c9",
   "metadata": {},
   "source": [
    "We will create a function which takes the old column name as input and returns a column name with the year and information from row 3, e.g. for column 2, we want to convert '2015' to 2015 (Both sexes)'"
   ]
  },
  {
   "cell_type": "markdown",
   "id": "b70e8060",
   "metadata": {},
   "source": [
    "NOTE: we want the 'Unnamed: 0' column to be the 'Country' column"
   ]
  },
  {
   "cell_type": "code",
   "execution_count": null,
   "id": "296f12d8",
   "metadata": {},
   "outputs": [],
   "source": []
  },
  {
   "cell_type": "markdown",
   "id": "1a25a794",
   "metadata": {},
   "source": [
    "Now let's assign the columns property of the dataframe (df.columns) to a list. This list will be made using list comprehension (see Section 2). Each element in the list is formed by applying the get_column_name function on the current element in df.columns."
   ]
  },
  {
   "cell_type": "code",
   "execution_count": null,
   "id": "22d6954b",
   "metadata": {},
   "outputs": [],
   "source": []
  },
  {
   "cell_type": "code",
   "execution_count": null,
   "id": "2f57a122",
   "metadata": {},
   "outputs": [],
   "source": []
  },
  {
   "cell_type": "markdown",
   "id": "46f5a51b",
   "metadata": {},
   "source": [
    "# 2. Removing the 1st 3 rows"
   ]
  },
  {
   "cell_type": "code",
   "execution_count": null,
   "id": "f3873394",
   "metadata": {},
   "outputs": [],
   "source": []
  },
  {
   "cell_type": "markdown",
   "id": "c31810ef",
   "metadata": {},
   "source": [
    "As you can see from above, the 3rd row of the DataFrame is useless now that we have renamed the columns. The 1st and 2nd rows were always useless. Let's remove them:"
   ]
  },
  {
   "cell_type": "code",
   "execution_count": null,
   "id": "6ece3913",
   "metadata": {},
   "outputs": [],
   "source": []
  },
  {
   "cell_type": "code",
   "execution_count": null,
   "id": "256658d9",
   "metadata": {},
   "outputs": [],
   "source": []
  },
  {
   "cell_type": "markdown",
   "id": "0a1784ce",
   "metadata": {},
   "source": [
    "# 3. Making the 'Country' column the index column of the DataFrame\n",
    "This is so that we can now access rows from their corresponding country using df.loc[country_name]"
   ]
  },
  {
   "cell_type": "code",
   "execution_count": null,
   "id": "d04a3fc5",
   "metadata": {},
   "outputs": [],
   "source": []
  },
  {
   "cell_type": "code",
   "execution_count": null,
   "id": "7f815187",
   "metadata": {},
   "outputs": [],
   "source": []
  },
  {
   "cell_type": "markdown",
   "id": "82d25edd",
   "metadata": {},
   "source": [
    "### Challenge: Access 'Andorra' row using .loc[]"
   ]
  },
  {
   "cell_type": "code",
   "execution_count": null,
   "id": "1e5ca2e0",
   "metadata": {},
   "outputs": [],
   "source": []
  },
  {
   "cell_type": "markdown",
   "id": "59f94ed8",
   "metadata": {},
   "source": [
    "# 4. Removing the range part of the blood pressure data"
   ]
  },
  {
   "cell_type": "code",
   "execution_count": null,
   "id": "d543b1b8",
   "metadata": {},
   "outputs": [],
   "source": []
  },
  {
   "cell_type": "markdown",
   "id": "716100a1",
   "metadata": {},
   "source": [
    "1. Below we define a function which takes in a cell from the DataFrame as input. \n",
    "2. This cell will be a string, e.g.'30.6 [23.6-38.3]'. cell.split(' ') returns a list of strings formed by splitting up the cell string at the spaces giving: ['30.6', '[23.6-38.3]'].\n",
    "3. We then want the first element (0th index) of this list (as this is the mean blood pressure) so we use: cell.split(' ')[0]"
   ]
  },
  {
   "cell_type": "code",
   "execution_count": null,
   "id": "af5ed31f",
   "metadata": {},
   "outputs": [],
   "source": []
  },
  {
   "cell_type": "code",
   "execution_count": null,
   "id": "6980c0e0",
   "metadata": {},
   "outputs": [],
   "source": []
  },
  {
   "cell_type": "markdown",
   "id": "6d28dc5e",
   "metadata": {},
   "source": [
    "## Using .apply() to change the values in a DataFrame\n",
    "Below we use a for loop to pass through every column name in df.columns. For each column name, we set the column's DataFrame (df[column_name]) equal to df[column_name].apply(remove_range). This is like setting it equal to the original column's DataFrame after we have 'applied' the remove_range(cell) function on every cell in the column."
   ]
  },
  {
   "cell_type": "code",
   "execution_count": null,
   "id": "bf5ec12a",
   "metadata": {},
   "outputs": [],
   "source": []
  },
  {
   "cell_type": "code",
   "execution_count": null,
   "id": "f8ffbb4e",
   "metadata": {
    "scrolled": true
   },
   "outputs": [],
   "source": []
  },
  {
   "cell_type": "markdown",
   "id": "24289e13",
   "metadata": {},
   "source": [
    "## 5. Creating a new dataset (df_both) which only contains the (Both sexes) Columns from df"
   ]
  },
  {
   "cell_type": "markdown",
   "id": "da8bf61f",
   "metadata": {},
   "source": [
    "Below we will create an empty list called column_names_of_columns_to_drop. Then, we use a for loop to iterate through the column names in df.columns. If the 2nd element (1st index) of the column_name.split(' ') is not equal to '(Both', we know it is not a 'Both sexes' column, so we can add that to the list."
   ]
  },
  {
   "cell_type": "code",
   "execution_count": null,
   "id": "a088246e",
   "metadata": {},
   "outputs": [],
   "source": []
  },
  {
   "cell_type": "markdown",
   "id": "564bc31a",
   "metadata": {},
   "source": [
    "We can now create our new DataFrame, df_both, which we will set equal to the original DataFrame df with .drop() applied on it. The kwarg labels (names) of columns to drop is set equal to column_names_of_columns_to_drop. The kwarg axis is set equal to 1 because we want to remove columns and they have axis = 1."
   ]
  },
  {
   "cell_type": "code",
   "execution_count": null,
   "id": "ec5f0f79",
   "metadata": {},
   "outputs": [],
   "source": []
  },
  {
   "cell_type": "code",
   "execution_count": null,
   "id": "cfd73290",
   "metadata": {},
   "outputs": [],
   "source": []
  },
  {
   "cell_type": "markdown",
   "id": "3991f424",
   "metadata": {},
   "source": [
    "### Challenge: Rename the columns in df_both\n",
    "We can now rename the columns because they are 'Both sexes' columns."
   ]
  },
  {
   "cell_type": "code",
   "execution_count": null,
   "id": "9fedf4e5",
   "metadata": {},
   "outputs": [],
   "source": []
  },
  {
   "cell_type": "code",
   "execution_count": null,
   "id": "aa081f6f",
   "metadata": {},
   "outputs": [],
   "source": []
  },
  {
   "cell_type": "markdown",
   "id": "ab1a00b4",
   "metadata": {},
   "source": [
    "## 6. Trying (and failing) to convert the data from strings to floats"
   ]
  },
  {
   "cell_type": "markdown",
   "id": "8a48e750",
   "metadata": {},
   "source": [
    "At the moment, the blood pressure data in the cells are strings:"
   ]
  },
  {
   "cell_type": "code",
   "execution_count": null,
   "id": "51936bff",
   "metadata": {},
   "outputs": [],
   "source": []
  },
  {
   "cell_type": "markdown",
   "id": "da5bd4a3",
   "metadata": {},
   "source": [
    "We use the pd.to_numeric method to convertn cells in df_both columns from strings into floats"
   ]
  },
  {
   "cell_type": "code",
   "execution_count": null,
   "id": "6d2f5a20",
   "metadata": {},
   "outputs": [],
   "source": []
  },
  {
   "cell_type": "markdown",
   "id": "e4ab2c26",
   "metadata": {},
   "source": [
    "However, we get an error..."
   ]
  },
  {
   "cell_type": "markdown",
   "id": "76341770",
   "metadata": {},
   "source": [
    "# Realising that for some countries, there is \"No\" data:"
   ]
  },
  {
   "cell_type": "markdown",
   "id": "e757884f",
   "metadata": {},
   "source": [
    "Some of the rows do not contain any data, only the string 'No'. For example Sudan:"
   ]
  },
  {
   "cell_type": "code",
   "execution_count": null,
   "id": "92883f96",
   "metadata": {},
   "outputs": [],
   "source": []
  },
  {
   "cell_type": "markdown",
   "id": "8b51f6d5",
   "metadata": {},
   "source": [
    "This isn't very helpful for plotting data so these rows should be removed"
   ]
  },
  {
   "cell_type": "markdown",
   "id": "5f52776b",
   "metadata": {},
   "source": [
    "# Finding these countries\n",
    "First, lets create a list of all countries. We can do this using df_both.index since the Country column is the DataFrame's index column"
   ]
  },
  {
   "cell_type": "code",
   "execution_count": null,
   "id": "8af2aee4",
   "metadata": {},
   "outputs": [],
   "source": []
  },
  {
   "cell_type": "code",
   "execution_count": null,
   "id": "5bf8e1dc",
   "metadata": {},
   "outputs": [],
   "source": []
  },
  {
   "cell_type": "markdown",
   "id": "37a4c0b3",
   "metadata": {},
   "source": [
    "First, create an empty list called countries_to_remove. Now use for loop to pass through each country in countries list above. And if the value at the row of that country in the '2015' column equals 'No', then we add it to countres_to_remove"
   ]
  },
  {
   "cell_type": "code",
   "execution_count": null,
   "id": "3ded4edd",
   "metadata": {},
   "outputs": [],
   "source": []
  },
  {
   "cell_type": "code",
   "execution_count": null,
   "id": "62e4075d",
   "metadata": {},
   "outputs": [],
   "source": []
  },
  {
   "cell_type": "markdown",
   "id": "0b3acce9",
   "metadata": {},
   "source": [
    "# Removing these countries\n",
    "To remove these countries, we set df_both equal to the original df_both with the .drop method applied. We set the labels kwarg equal to the countries_to_remove list we just created. We then set the axis kwarg equal to 0 because we want to remove rows and rows have an axis of 0."
   ]
  },
  {
   "cell_type": "code",
   "execution_count": null,
   "id": "fdab7a4f",
   "metadata": {},
   "outputs": [],
   "source": []
  },
  {
   "cell_type": "markdown",
   "id": "f01003f9",
   "metadata": {},
   "source": [
    "# 6. Converting the string values to floats\n",
    "Since we have removed the 'No' strings, we can convert the number strings, e.g. '30.6' into floats. For each column_name in df_both.columns, we assign the DataFrame at that column name to itself after we have applied the pd.to_numeric function with downcast='float'"
   ]
  },
  {
   "cell_type": "code",
   "execution_count": null,
   "id": "41efb345",
   "metadata": {},
   "outputs": [],
   "source": []
  },
  {
   "cell_type": "code",
   "execution_count": null,
   "id": "83cff0ab",
   "metadata": {},
   "outputs": [],
   "source": []
  },
  {
   "cell_type": "markdown",
   "id": "b26c563f",
   "metadata": {},
   "source": [
    "# 7. Transposing the data\n",
    "In order to use the lineplot function from seaborn, the years must be the rows and countries the columns. This is so that the years appear on the x-axis of the plot."
   ]
  },
  {
   "cell_type": "code",
   "execution_count": null,
   "id": "669b44e1",
   "metadata": {},
   "outputs": [],
   "source": []
  },
  {
   "cell_type": "code",
   "execution_count": null,
   "id": "b02290d2",
   "metadata": {},
   "outputs": [],
   "source": []
  },
  {
   "cell_type": "markdown",
   "id": "77657986",
   "metadata": {},
   "source": [
    "# 8. Reversing the rows\n",
    "NOTE: As the years in our dataframe start at 2015 and descend down to 1975, this is how it gets shown on the lineplot, when in fact we want the years to be ascending from left to right. To fix this, we can reverse the rows of our dataframe using list slicing: df_both.iloc[::-1]"
   ]
  },
  {
   "cell_type": "code",
   "execution_count": null,
   "id": "0cc25bd4",
   "metadata": {},
   "outputs": [],
   "source": []
  },
  {
   "cell_type": "code",
   "execution_count": null,
   "id": "d1c4a1fe",
   "metadata": {},
   "outputs": [],
   "source": []
  },
  {
   "cell_type": "markdown",
   "id": "9b0fdcb0",
   "metadata": {},
   "source": [
    "# Data Visualization\n",
    "We will create 3 functions each performing a different task for data visualization."
   ]
  },
  {
   "cell_type": "markdown",
   "id": "b6585b71",
   "metadata": {},
   "source": [
    "### Function 1: Setting the figsize, title and axes labels using matplotlib.pyplot (plt)\n",
    "We use matplotlib.pyplot to set the dimensions of our graph and to give it a title & x-axis and y-axis labels.\n",
    "\n",
    "Title: \"How has blood pressure has varied in different countries between 1975 and 2015\""
   ]
  },
  {
   "cell_type": "code",
   "execution_count": null,
   "id": "3d468a97",
   "metadata": {},
   "outputs": [],
   "source": []
  },
  {
   "cell_type": "markdown",
   "id": "94399b83",
   "metadata": {},
   "source": [
    "### Function 2: Setting the year xticks in increments of 5"
   ]
  },
  {
   "cell_type": "code",
   "execution_count": null,
   "id": "49e83404",
   "metadata": {},
   "outputs": [],
   "source": []
  },
  {
   "cell_type": "code",
   "execution_count": null,
   "id": "9ff929bf",
   "metadata": {},
   "outputs": [],
   "source": []
  },
  {
   "cell_type": "markdown",
   "id": "ef88b019",
   "metadata": {},
   "source": [
    "### Using seaborn (sns) lineplot\n",
    "To plot a line graph, an option is to use the seaborn lineplot method. The keyword argument is data which you give the dataframe you would like to plot. This data must be correctly formatted with the variable you wish to be on the x-axis being in the rows of the dataframe."
   ]
  },
  {
   "cell_type": "code",
   "execution_count": null,
   "id": "e8ebcc10",
   "metadata": {},
   "outputs": [],
   "source": []
  }
 ],
 "metadata": {
  "kernelspec": {
   "display_name": "Python 3 (ipykernel)",
   "language": "python",
   "name": "python3"
  },
  "language_info": {
   "codemirror_mode": {
    "name": "ipython",
    "version": 3
   },
   "file_extension": ".py",
   "mimetype": "text/x-python",
   "name": "python",
   "nbconvert_exporter": "python",
   "pygments_lexer": "ipython3",
   "version": "3.8.10"
  }
 },
 "nbformat": 4,
 "nbformat_minor": 5
}
