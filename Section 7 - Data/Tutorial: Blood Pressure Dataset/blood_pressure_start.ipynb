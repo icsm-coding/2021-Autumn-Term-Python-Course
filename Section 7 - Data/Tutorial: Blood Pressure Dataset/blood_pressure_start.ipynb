{
 "cells": [
  {
   "cell_type": "code",
   "execution_count": 1,
   "id": "4585889c",
   "metadata": {},
   "outputs": [
    {
     "name": "stdout",
     "output_type": "stream",
     "text": [
      "Requirement already satisfied: numpy in /home/charlie/.local/lib/python3.8/site-packages (1.21.2)\n",
      "Requirement already satisfied: matplotlib in /home/charlie/.local/lib/python3.8/site-packages (3.4.3)\n",
      "Requirement already satisfied: kiwisolver>=1.0.1 in /home/charlie/.local/lib/python3.8/site-packages (from matplotlib) (1.3.1)\n",
      "Requirement already satisfied: pyparsing>=2.2.1 in /home/charlie/.local/lib/python3.8/site-packages (from matplotlib) (2.4.7)\n",
      "Requirement already satisfied: numpy>=1.16 in /home/charlie/.local/lib/python3.8/site-packages (from matplotlib) (1.21.2)\n",
      "Requirement already satisfied: cycler>=0.10 in /home/charlie/.local/lib/python3.8/site-packages (from matplotlib) (0.10.0)\n",
      "Requirement already satisfied: pillow>=6.2.0 in /home/charlie/.local/lib/python3.8/site-packages (from matplotlib) (8.3.1)\n",
      "Requirement already satisfied: python-dateutil>=2.7 in /usr/lib/python3/dist-packages (from matplotlib) (2.7.3)\n",
      "Requirement already satisfied: six in /usr/lib/python3/dist-packages (from cycler>=0.10->matplotlib) (1.14.0)\n",
      "Requirement already satisfied: pandas in /home/charlie/.local/lib/python3.8/site-packages (1.3.2)\n",
      "Requirement already satisfied: pytz>=2017.3 in /home/charlie/.local/lib/python3.8/site-packages (from pandas) (2021.1)\n",
      "Requirement already satisfied: python-dateutil>=2.7.3 in /usr/lib/python3/dist-packages (from pandas) (2.7.3)\n",
      "Requirement already satisfied: numpy>=1.17.3 in /home/charlie/.local/lib/python3.8/site-packages (from pandas) (1.21.2)\n",
      "Requirement already satisfied: seaborn in /home/charlie/.local/lib/python3.8/site-packages (0.11.2)\n",
      "Requirement already satisfied: scipy>=1.0 in /home/charlie/.local/lib/python3.8/site-packages (from seaborn) (1.7.1)\n",
      "Requirement already satisfied: pandas>=0.23 in /home/charlie/.local/lib/python3.8/site-packages (from seaborn) (1.3.2)\n",
      "Requirement already satisfied: numpy>=1.15 in /home/charlie/.local/lib/python3.8/site-packages (from seaborn) (1.21.2)\n",
      "Requirement already satisfied: matplotlib>=2.2 in /home/charlie/.local/lib/python3.8/site-packages (from seaborn) (3.4.3)\n",
      "Requirement already satisfied: pytz>=2017.3 in /home/charlie/.local/lib/python3.8/site-packages (from pandas>=0.23->seaborn) (2021.1)\n",
      "Requirement already satisfied: python-dateutil>=2.7.3 in /usr/lib/python3/dist-packages (from pandas>=0.23->seaborn) (2.7.3)\n",
      "Requirement already satisfied: cycler>=0.10 in /home/charlie/.local/lib/python3.8/site-packages (from matplotlib>=2.2->seaborn) (0.10.0)\n",
      "Requirement already satisfied: kiwisolver>=1.0.1 in /home/charlie/.local/lib/python3.8/site-packages (from matplotlib>=2.2->seaborn) (1.3.1)\n",
      "Requirement already satisfied: pyparsing>=2.2.1 in /home/charlie/.local/lib/python3.8/site-packages (from matplotlib>=2.2->seaborn) (2.4.7)\n",
      "Requirement already satisfied: pillow>=6.2.0 in /home/charlie/.local/lib/python3.8/site-packages (from matplotlib>=2.2->seaborn) (8.3.1)\n",
      "Requirement already satisfied: six in /usr/lib/python3/dist-packages (from cycler>=0.10->matplotlib>=2.2->seaborn) (1.14.0)\n"
     ]
    }
   ],
   "source": [
    "import sys\n",
    "\n",
    "!{sys.executable} -m pip install pandas\n",
    "!{sys.executable} -m pip install seaborn\n",
    "!{sys.executable} -m pip install matplotlib\n",
    "!{sys.executable} -m pip install numpy\n",
    "\n",
    "# import sys\n",
    "# !conda install --yes --prefix {sys.prefix} numpy\n",
    "# !conda install --yes --prefix {sys.prefix} matplotlib\n",
    "# !conda install --yes --prefix {sys.prefix} pandas"
   ]
  },
  {
   "cell_type": "code",
   "execution_count": 2,
   "id": "209263fb",
   "metadata": {},
   "outputs": [],
   "source": [
    "import pandas as pd\n",
    "import seaborn as sns\n",
    "import matplotlib.pyplot as plt\n",
    "import numpy as np"
   ]
  },
  {
   "cell_type": "markdown",
   "id": "a857773f",
   "metadata": {},
   "source": [
    "# THE DATASET\n",
    "This is the dataset downloaded from the WHO website. It shows how the blood pressure in countries has varied from 1975 to 2015. Each year has seperate columns for 'Both sexes', 'Male' & 'Female'. The values in the table are in the string format: '{average} [{range}]'. The data will need to be cleaned before it can be visualized"
   ]
  },
  {
   "cell_type": "markdown",
   "id": "fff8ff88",
   "metadata": {},
   "source": [
    "Objectives:\n",
    "1. Rename the columns so they display the information from the 3rd row.\n",
    "2. Remove the first 3 rows.\n",
    "3. Make the country column the index column.\n",
    "4. Convert blood pressure data from having average and range to just having average\n",
    "5. Convert the blood pressure data from strings to floats\n",
    "6. Create a smaller dataframe only containing the (Both sexes) data\n",
    "7. Transpose the data so it fits seaborn's lineplot method."
   ]
  },
  {
   "cell_type": "markdown",
   "id": "2edc13ab",
   "metadata": {},
   "source": [
    "## Reading the dataset using pd.read_csv()\n",
    "We pass in the relative file path as a string as a positional argument"
   ]
  },
  {
   "cell_type": "code",
   "execution_count": null,
   "id": "3232abf6",
   "metadata": {},
   "outputs": [],
   "source": []
  },
  {
   "cell_type": "markdown",
   "id": "fe978b0d",
   "metadata": {},
   "source": [
    "# 1. Renaming columns\n",
    "We will create a function which takes the old column name as input and returns a column name with the year and information from row 3."
   ]
  },
  {
   "cell_type": "markdown",
   "id": "b70e8060",
   "metadata": {},
   "source": [
    "NOTE: we want the 'Unnamed: 0' column to be the 'Country' column"
   ]
  },
  {
   "cell_type": "code",
   "execution_count": null,
   "id": "296f12d8",
   "metadata": {},
   "outputs": [],
   "source": []
  },
  {
   "cell_type": "markdown",
   "id": "1a25a794",
   "metadata": {},
   "source": [
    "Now let's assign the columns property of the dataframe (df.columns) to a list. This list will be made using list comprehension (see Section 2). Each element in the list is formed by applying the get_column_name function on the current element in df.columns."
   ]
  },
  {
   "cell_type": "code",
   "execution_count": null,
   "id": "22d6954b",
   "metadata": {},
   "outputs": [],
   "source": []
  },
  {
   "cell_type": "markdown",
   "id": "46f5a51b",
   "metadata": {},
   "source": [
    "# Removing the 1st 3 rows"
   ]
  },
  {
   "cell_type": "code",
   "execution_count": null,
   "id": "f3873394",
   "metadata": {},
   "outputs": [],
   "source": [
    "df.iloc[:3]"
   ]
  },
  {
   "cell_type": "markdown",
   "id": "c31810ef",
   "metadata": {},
   "source": [
    "As you can see from above, the 3rd row of the DataFrame is useless now that we have renamed the columns. The 1st and 2nd rows were always useless. Let's remove them:"
   ]
  },
  {
   "cell_type": "code",
   "execution_count": null,
   "id": "6ece3913",
   "metadata": {},
   "outputs": [],
   "source": []
  },
  {
   "cell_type": "markdown",
   "id": "0a1784ce",
   "metadata": {},
   "source": [
    "# Making the 'Country' column the index column of the DataFrame\n",
    "This is so that we can now access rows from their corresponding country using df.loc[country_name]"
   ]
  },
  {
   "cell_type": "code",
   "execution_count": null,
   "id": "d04a3fc5",
   "metadata": {},
   "outputs": [],
   "source": []
  },
  {
   "cell_type": "markdown",
   "id": "82d25edd",
   "metadata": {},
   "source": [
    "### Challenge: Access 'Andorra' row using .loc[]"
   ]
  },
  {
   "cell_type": "code",
   "execution_count": null,
   "id": "1e5ca2e0",
   "metadata": {},
   "outputs": [],
   "source": []
  },
  {
   "cell_type": "markdown",
   "id": "59f94ed8",
   "metadata": {},
   "source": [
    "# Removing the range part of the blood pressure data"
   ]
  },
  {
   "cell_type": "markdown",
   "id": "716100a1",
   "metadata": {},
   "source": [
    "1. Below we define a function which takes in a cell from the DataFrame as input. \n",
    "2. This cell will be a string, e.g.'18.6 [13.7-24.1]'. cell.split(' ') returns a list of strings formed by splitting up the cell string at the spaces giving: ['18.6', '[13.7-24.1]'].\n",
    "3. We then want the first element (0th index) of this list (as this is the mean blood pressure) so we use: cell.split(' ')[0]"
   ]
  },
  {
   "cell_type": "code",
   "execution_count": null,
   "id": "af5ed31f",
   "metadata": {},
   "outputs": [],
   "source": []
  },
  {
   "cell_type": "markdown",
   "id": "6d28dc5e",
   "metadata": {},
   "source": [
    "## Using .apply() to change the values in a DataFrame\n",
    "Below we use a for loop to pass through every column name in df.columns. For each column name, we set the column's DataFrame (df[column_name]) equal to df[column_name].apply(remove_range). This is like setting it equal to the original column's DataFrame after we have 'applied' the remove_range(cell) function on every cell in the column."
   ]
  },
  {
   "cell_type": "code",
   "execution_count": null,
   "id": "bf5ec12a",
   "metadata": {},
   "outputs": [],
   "source": []
  },
  {
   "cell_type": "markdown",
   "id": "ab1a00b4",
   "metadata": {},
   "source": [
    "## Trying (and failing) to convert the data from strings to floats"
   ]
  },
  {
   "cell_type": "markdown",
   "id": "da5bd4a3",
   "metadata": {},
   "source": [
    "We use the pd.to_numeric method to convertn cells in df_both columns from strings into floats"
   ]
  },
  {
   "cell_type": "code",
   "execution_count": null,
   "id": "6d2f5a20",
   "metadata": {},
   "outputs": [],
   "source": []
  },
  {
   "cell_type": "markdown",
   "id": "e4ab2c26",
   "metadata": {},
   "source": [
    "However, we get an error..."
   ]
  },
  {
   "cell_type": "markdown",
   "id": "76341770",
   "metadata": {},
   "source": [
    "# Realising that for some countries, there is \"No\" data:"
   ]
  },
  {
   "cell_type": "markdown",
   "id": "e757884f",
   "metadata": {},
   "source": [
    "Some of the rows do not contain any data, only the string 'No'. For example Sudan:"
   ]
  },
  {
   "cell_type": "code",
   "execution_count": null,
   "id": "92883f96",
   "metadata": {},
   "outputs": [],
   "source": []
  },
  {
   "cell_type": "markdown",
   "id": "8b51f6d5",
   "metadata": {},
   "source": [
    "This isn't very helpful for plotting data so these rows should be removed"
   ]
  },
  {
   "cell_type": "markdown",
   "id": "5f52776b",
   "metadata": {},
   "source": [
    "# Finding these countries\n",
    "First, lets create a list of all countries. We can do this using df_both.index since the Country column is the DataFrame's index column"
   ]
  },
  {
   "cell_type": "code",
   "execution_count": null,
   "id": "8af2aee4",
   "metadata": {},
   "outputs": [],
   "source": []
  },
  {
   "cell_type": "markdown",
   "id": "37a4c0b3",
   "metadata": {},
   "source": [
    "First, create an empty list called countries_to_remove. Now use for loop to pass through each country in countries list above. And if the value at the row of that country in the '2015' column equals 'No', then we add it to countres_to_remove"
   ]
  },
  {
   "cell_type": "code",
   "execution_count": null,
   "id": "3ded4edd",
   "metadata": {},
   "outputs": [],
   "source": []
  },
  {
   "cell_type": "markdown",
   "id": "0b3acce9",
   "metadata": {},
   "source": [
    "# Removing these countries\n",
    "We now drop those countries.We again use .drop() but as labels is now set equal to names of rows, axis = 0."
   ]
  },
  {
   "cell_type": "code",
   "execution_count": null,
   "id": "fdab7a4f",
   "metadata": {},
   "outputs": [],
   "source": []
  },
  {
   "cell_type": "markdown",
   "id": "f01003f9",
   "metadata": {},
   "source": [
    "# Converting the string values to floats\n",
    "Since we have removed the 'No' strings, we can convert the number strings, e.g. '30.6' into floats. We pass through each column_name df.columns with a for loop. For each, we assign the DataFrame at that column name to itself after we have applied the pd.to_numeric function with downcast='float'"
   ]
  },
  {
   "cell_type": "code",
   "execution_count": null,
   "id": "41efb345",
   "metadata": {},
   "outputs": [],
   "source": []
  },
  {
   "cell_type": "markdown",
   "id": "64f421db",
   "metadata": {},
   "source": [
    "## Creating a new dataset (df_both) which only contains the (Both sexes) Columns from df"
   ]
  },
  {
   "cell_type": "markdown",
   "id": "46aedee0",
   "metadata": {},
   "source": [
    "Below we will create an empty list called column_names_of_columns_to_drop. Then, we use a for loop to iterate through the column names in df.columns. If the 2nd element (1st index) of the column_name.split(' ') is not equal to '(Both', we know it is not a 'Both sexes' column, so we can add that to the list of column names of columns we want to drop from the DataFrame."
   ]
  },
  {
   "cell_type": "code",
   "execution_count": null,
   "id": "3624bcbe",
   "metadata": {},
   "outputs": [],
   "source": []
  },
  {
   "cell_type": "markdown",
   "id": "2d2e21aa",
   "metadata": {},
   "source": [
    "We can now create our new DataFrame, df_both, which we will set equal to the original DataFrame df with .drop() applied on it. The labels (names) of columns to drop is set equal to our new list and axis = 1."
   ]
  },
  {
   "cell_type": "code",
   "execution_count": null,
   "id": "1c8e6a6c",
   "metadata": {},
   "outputs": [],
   "source": []
  },
  {
   "cell_type": "markdown",
   "id": "2c9df66f",
   "metadata": {},
   "source": [
    "### Challenge: Rename the columns in df_both\n",
    "We can now rename the columns because they are 'Both sexes' columns."
   ]
  },
  {
   "cell_type": "code",
   "execution_count": null,
   "id": "08f4ca36",
   "metadata": {},
   "outputs": [],
   "source": []
  },
  {
   "cell_type": "markdown",
   "id": "b26c563f",
   "metadata": {},
   "source": [
    "## Transposing the data\n",
    "In order to use the lineplot function from seaborn, the years must be the rows and countries the columns. This is so that the years appear on the x-axis of the plot."
   ]
  },
  {
   "cell_type": "code",
   "execution_count": null,
   "id": "669b44e1",
   "metadata": {},
   "outputs": [],
   "source": []
  },
  {
   "cell_type": "markdown",
   "id": "77657986",
   "metadata": {},
   "source": [
    "### Reversing the rows"
   ]
  },
  {
   "cell_type": "code",
   "execution_count": null,
   "id": "0cc25bd4",
   "metadata": {},
   "outputs": [],
   "source": []
  },
  {
   "cell_type": "markdown",
   "id": "94399b83",
   "metadata": {},
   "source": [
    "### Setting the year xticks in increments of 5\n",
    "As we have data for every year from over 40 years, the graph will try to fit every year on the x axis, leaving it overcrowded. To solve this problem, we can use the numpy external library (np).\n",
    "\n",
    "We will use the np.arange() method to create a list of numbers. We need to create a list of numbers which starts at 0 and ends at 40 and has increments of 5. np.arange() takes similar arguments to those of list slicing. We want the start to be 0, the stop to be 41 and the step to be 5. So we write np.arange(0, 41, 5).\n",
    "\n",
    "This is because between 1975 and 2015 there are 40 years and on the x axis we only want to show 1 year in every 5.\n",
    "\n",
    "We then pass in this list as an argument in plt.xticks()"
   ]
  },
  {
   "cell_type": "code",
   "execution_count": null,
   "id": "49e83404",
   "metadata": {},
   "outputs": [],
   "source": []
  },
  {
   "cell_type": "markdown",
   "id": "ef88b019",
   "metadata": {},
   "source": [
    "### Using seaborn (sns) lineplot\n",
    "To plot a line graph, an option is to use the seaborn lineplot method. The keyword argument is data which you give the dataframe you would like to plot. This data must be correctly formatted with the variable you wish to be on the x-axis being in the rows of the dataframe.\n",
    "\n",
    "NOTE: When we plot all the data for every country, the graph is very messy. To select only a few countries, we can select them by their column name. To select multiple columns from their name, we use dataframe double square brackets and within the inner square bracket, we write the list of country names."
   ]
  },
  {
   "cell_type": "code",
   "execution_count": null,
   "id": "e8ebcc10",
   "metadata": {},
   "outputs": [],
   "source": []
  }
 ],
 "metadata": {
  "kernelspec": {
   "display_name": "Python 3 (ipykernel)",
   "language": "python",
   "name": "python3"
  },
  "language_info": {
   "codemirror_mode": {
    "name": "ipython",
    "version": 3
   },
   "file_extension": ".py",
   "mimetype": "text/x-python",
   "name": "python",
   "nbconvert_exporter": "python",
   "pygments_lexer": "ipython3",
   "version": "3.8.10"
  }
 },
 "nbformat": 4,
 "nbformat_minor": 5
}
