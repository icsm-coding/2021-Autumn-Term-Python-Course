{
 "cells": [
  {
   "cell_type": "code",
   "execution_count": null,
   "id": "50bf241a",
   "metadata": {},
   "outputs": [],
   "source": [
    "import sys\n",
    "!{sys.executable} -m pip install pandas\n",
    "!{sys.executable} -m pip install matplotlib\n",
    "!{sys.executable} -m pip install seaborn"
   ]
  },
  {
   "cell_type": "code",
   "execution_count": null,
   "id": "3617cf69",
   "metadata": {},
   "outputs": [],
   "source": [
    "import pandas as pd\n",
    "import seaborn as sns\n",
    "import matplotlib.pyplot as plt"
   ]
  },
  {
   "cell_type": "markdown",
   "id": "3797ea5b",
   "metadata": {},
   "source": [
    "# THE DATASET\n",
    "Before you start, go to the link: https://apps.who.int/gho/data/view.gisah.GDO2107v?lang=en & watch the \"Download the dataset\" video from section 7 to download the dataset. It shows how the blood pressure in countries has varied from 1975 to 2015. Each year has separate columns for \"Both Sexes\", \"Male\" and \"Female\". The values in the table are in the string format: \"{average} [{range}]\". The data will need to be cleaned before it can be visualized."
   ]
  },
  {
   "cell_type": "code",
   "execution_count": 27,
   "id": "fea36738",
   "metadata": {},
   "outputs": [],
   "source": []
  },
  {
   "cell_type": "code",
   "execution_count": null,
   "id": "05623162",
   "metadata": {},
   "outputs": [],
   "source": []
  },
  {
   "cell_type": "markdown",
   "id": "825b0249",
   "metadata": {},
   "source": [
    "# Objectives:\n",
    "1. Rename the columns so they display the information from the 3rd row.\n",
    "2. Remove the first 3 rows.\n",
    "3. Male the country column the index column.\n",
    "4. Convert blood pressure daa from having averange and range to just having avarage values.\n",
    "5. Create a small dataframe which contains only the \"Both Sexes\" data.\n",
    "6. Convert the blood prssure data from strings to floats.\n",
    "7. Transpose the data so it fits seaborn's lineplot method.\n",
    "8. Reverse teh data so the years ascend from left to right."
   ]
  },
  {
   "cell_type": "markdown",
   "id": "32a67eb6",
   "metadata": {},
   "source": [
    "# 1. Renaming columns"
   ]
  },
  {
   "cell_type": "code",
   "execution_count": null,
   "id": "636e768e",
   "metadata": {},
   "outputs": [],
   "source": []
  },
  {
   "cell_type": "markdown",
   "id": "355161ce",
   "metadata": {},
   "source": [
    "We will create a function which takes the old column as input and returns a column name with the year and information from row 3, e.g. for column 2, we want to convert '2015' to '2015 (Both Sexes)'\n",
    "\n",
    "NOTE: We want the 'Unnamed: 0' column to be the 'Country' column"
   ]
  },
  {
   "cell_type": "code",
   "execution_count": null,
   "id": "fcddad69",
   "metadata": {},
   "outputs": [],
   "source": []
  },
  {
   "cell_type": "code",
   "execution_count": null,
   "id": "d3d3998a",
   "metadata": {},
   "outputs": [],
   "source": []
  },
  {
   "cell_type": "code",
   "execution_count": null,
   "id": "87133a49",
   "metadata": {},
   "outputs": [],
   "source": []
  },
  {
   "cell_type": "markdown",
   "id": "b20f6f36",
   "metadata": {},
   "source": [
    "# 2. Removing Rows Challenge\n",
    "Have a go at removing the first 3 rows of the dataframe so the first row has 'Afghanistan' in the Country column"
   ]
  },
  {
   "cell_type": "code",
   "execution_count": 33,
   "id": "acb2470e",
   "metadata": {},
   "outputs": [],
   "source": []
  },
  {
   "cell_type": "code",
   "execution_count": null,
   "id": "88ef6633",
   "metadata": {},
   "outputs": [],
   "source": []
  },
  {
   "cell_type": "markdown",
   "id": "4dbac140",
   "metadata": {},
   "source": [
    "# 3. Making the 'Country' column the index column of the DataFrame\n",
    "This is so that we can now access rows from their corresponding country using df.loc[country_name]"
   ]
  },
  {
   "cell_type": "code",
   "execution_count": null,
   "id": "bd0ef69a",
   "metadata": {},
   "outputs": [],
   "source": []
  },
  {
   "cell_type": "code",
   "execution_count": null,
   "id": "396d4d47",
   "metadata": {},
   "outputs": [],
   "source": []
  },
  {
   "cell_type": "code",
   "execution_count": null,
   "id": "bdf52c3e",
   "metadata": {},
   "outputs": [],
   "source": []
  },
  {
   "cell_type": "markdown",
   "id": "e4b152fe",
   "metadata": {},
   "source": [
    "# 4. Removing the range part of the blood pressure data"
   ]
  },
  {
   "cell_type": "code",
   "execution_count": null,
   "id": "5cef311b",
   "metadata": {},
   "outputs": [],
   "source": []
  },
  {
   "cell_type": "markdown",
   "id": "e5a1fb3e",
   "metadata": {},
   "source": [
    "1. Below we define a function which takes in a cell from the DataFrame as input\n",
    "2. This cell will be a string, e.g. '30.6 [23.6-38.3]'. cell.split(' ') returns a list of strings formed by splitting up the cell string at the spaces giving: ['30.6', '[23.6-38.3]'].\n",
    "3. We then want the first element (0th index) of this list (as this is the mean blood pressure) so we use cell.split(' ')[0]"
   ]
  },
  {
   "cell_type": "code",
   "execution_count": null,
   "id": "2532850e",
   "metadata": {},
   "outputs": [],
   "source": []
  },
  {
   "cell_type": "code",
   "execution_count": null,
   "id": "38181327",
   "metadata": {},
   "outputs": [],
   "source": []
  },
  {
   "cell_type": "markdown",
   "id": "cfad7623",
   "metadata": {},
   "source": [
    "# Using .apply() to change the values in a DataFrame"
   ]
  },
  {
   "cell_type": "markdown",
   "id": "2d6e7edd",
   "metadata": {},
   "source": [
    "Below we use a for loop to pass through every column name in df.columns. for each column name, we set the column's DataFrame (df[column_name]) equal to df[column_name].apply(remove_range). This is like setting it equal to the original column's DataFrame after we have applied the remove_range(cell) on every cell in the column."
   ]
  },
  {
   "cell_type": "code",
   "execution_count": 41,
   "id": "9342c7dc",
   "metadata": {},
   "outputs": [],
   "source": []
  },
  {
   "cell_type": "code",
   "execution_count": null,
   "id": "d3901e69",
   "metadata": {},
   "outputs": [],
   "source": []
  },
  {
   "cell_type": "markdown",
   "id": "2874e633",
   "metadata": {},
   "source": [
    "## 5. Creating a new dataset (df_both) which only contains the (Both sexes) Columns from df\n",
    "Below we will create an empty list called column_names_of_columns_to_drop. then, we use a for loop to iterate through the column names in df.columns. If the 2nd element (1st index) of the column_name.split(' ') is not equal to '(Both' we know it is not a 'Both sexes' column so we can add that to the list."
   ]
  },
  {
   "cell_type": "code",
   "execution_count": null,
   "id": "dc0178fa",
   "metadata": {},
   "outputs": [],
   "source": []
  },
  {
   "cell_type": "markdown",
   "id": "45e8bb9e",
   "metadata": {},
   "source": [
    "We now create a new DataFrame, df_both, which we set equal to the original DataFrame df with .drop() applied on it. The kwarg labels of columns to drop is set equal to the column_names_of_columns_to_drop list from above. The kwarg axis is set equal to 1 because we want to remove columns and they have axis = 1."
   ]
  },
  {
   "cell_type": "code",
   "execution_count": null,
   "id": "1c267822",
   "metadata": {},
   "outputs": [],
   "source": []
  },
  {
   "cell_type": "code",
   "execution_count": null,
   "id": "c4b6a331",
   "metadata": {},
   "outputs": [],
   "source": []
  },
  {
   "cell_type": "markdown",
   "id": "39aa9897",
   "metadata": {},
   "source": [
    "## Challenge: Rename the columns in df_both\n",
    "WE can now rename the columns because they are all 'Both sexes' columns so this information is no longer necessary."
   ]
  },
  {
   "cell_type": "code",
   "execution_count": null,
   "id": "880a5cbb",
   "metadata": {},
   "outputs": [],
   "source": []
  },
  {
   "cell_type": "code",
   "execution_count": null,
   "id": "6633186d",
   "metadata": {},
   "outputs": [],
   "source": []
  },
  {
   "cell_type": "markdown",
   "id": "9edee368",
   "metadata": {},
   "source": [
    "## 6. Trying (and failing) to convert the data from strings to floats\n",
    "At the moment, the blood pressure data in the cells are strings."
   ]
  },
  {
   "cell_type": "code",
   "execution_count": null,
   "id": "cf2e120c",
   "metadata": {},
   "outputs": [],
   "source": []
  },
  {
   "cell_type": "markdown",
   "id": "938bb85d",
   "metadata": {},
   "source": [
    "We use the pd.to_numeric method to convert cells in df_both columns from strings to floats."
   ]
  },
  {
   "cell_type": "code",
   "execution_count": null,
   "id": "141538e1",
   "metadata": {},
   "outputs": [],
   "source": []
  },
  {
   "cell_type": "markdown",
   "id": "f09e269c",
   "metadata": {},
   "source": [
    "However, we get an error"
   ]
  },
  {
   "cell_type": "markdown",
   "id": "3d94a987",
   "metadata": {},
   "source": [
    "# Realising that for some countries, there is \"No\" data:\n",
    "Some of the rows do not contain any data, only the string \"No\". For example Sudan:"
   ]
  },
  {
   "cell_type": "code",
   "execution_count": null,
   "id": "4065ccdf",
   "metadata": {},
   "outputs": [],
   "source": []
  },
  {
   "cell_type": "markdown",
   "id": "3e018333",
   "metadata": {},
   "source": [
    "# Finding these countries\n",
    "First, lets create a list of all countries. We can do this using df_both.index since the Country column is the DataFrame's index column."
   ]
  },
  {
   "cell_type": "code",
   "execution_count": null,
   "id": "720e154f",
   "metadata": {},
   "outputs": [],
   "source": []
  },
  {
   "cell_type": "code",
   "execution_count": null,
   "id": "f52b2fe2",
   "metadata": {},
   "outputs": [],
   "source": []
  },
  {
   "cell_type": "markdown",
   "id": "1530a6b2",
   "metadata": {},
   "source": [
    "Now, lets create a list called countries_to_remove. Now use a for loop to pass through each country in countries list above. And if the value at the row of that country in the \"2015\" column equals \"No\" then we add it to the countries_to_remove"
   ]
  },
  {
   "cell_type": "code",
   "execution_count": null,
   "id": "c7df3ef1",
   "metadata": {},
   "outputs": [],
   "source": []
  },
  {
   "cell_type": "markdown",
   "id": "1f299ed6",
   "metadata": {},
   "source": [
    "# Removing these countries\n",
    "To remove these countries, we set df_both equal to the original df_both with the .drop() method applied on it. We set the labels kwarg equal to the countries_to_remove list from above. We then set the axis kwarg equal to 0 because we want to remove rows and rows have an axis of 0."
   ]
  },
  {
   "cell_type": "code",
   "execution_count": null,
   "id": "e683297d",
   "metadata": {},
   "outputs": [],
   "source": []
  },
  {
   "cell_type": "code",
   "execution_count": null,
   "id": "6e5f6499",
   "metadata": {},
   "outputs": [],
   "source": []
  },
  {
   "cell_type": "markdown",
   "id": "fe8ac0a3",
   "metadata": {},
   "source": [
    "# 6. Converting the string values to floats\n",
    "Since we have remove the 'No' strings, we can convert the number strings, e.g. '30.6' into floats. For each column_name in df_both.columns, we assign the DataFrame at that column name to itself after we have applied the pd.to_numeric function with downcast='float'."
   ]
  },
  {
   "cell_type": "code",
   "execution_count": null,
   "id": "5c7e3d58",
   "metadata": {},
   "outputs": [],
   "source": []
  },
  {
   "cell_type": "code",
   "execution_count": null,
   "id": "42901319",
   "metadata": {},
   "outputs": [],
   "source": []
  },
  {
   "cell_type": "markdown",
   "id": "f6e73b63",
   "metadata": {},
   "source": [
    "# 7. Transposing the data\n",
    "To use the lineplot function from seaborn, the years must be the rows and the countries the columns. This is so that the years appear onthe x-axis of the plot."
   ]
  },
  {
   "cell_type": "code",
   "execution_count": null,
   "id": "dffccdb3",
   "metadata": {},
   "outputs": [],
   "source": []
  },
  {
   "cell_type": "code",
   "execution_count": null,
   "id": "275f7387",
   "metadata": {},
   "outputs": [],
   "source": []
  },
  {
   "cell_type": "markdown",
   "id": "99f93a3a",
   "metadata": {},
   "source": [
    "# 8. Reversing the rows\n",
    "As the years in our dataframe start at 2015 and descend down to 1975, this is how it gets shwon on the lineplot, when in fact we want the years to be ascending from left to right. To fix this, we can reverse the rows of our dataframe using list slicing: df_both.iloc[::-1]"
   ]
  },
  {
   "cell_type": "code",
   "execution_count": null,
   "id": "3f171baf",
   "metadata": {},
   "outputs": [],
   "source": []
  },
  {
   "cell_type": "code",
   "execution_count": null,
   "id": "0550b4ff",
   "metadata": {},
   "outputs": [],
   "source": []
  },
  {
   "cell_type": "markdown",
   "id": "686c6a76",
   "metadata": {},
   "source": [
    "# Data Visualization\n",
    "We will create 3 functions each performing a different task for data visualization."
   ]
  },
  {
   "cell_type": "markdown",
   "id": "727c41d1",
   "metadata": {},
   "source": [
    "### Function 1: Setting the figsize, title and axes labels using matplotlib.pyplot (plt)\n",
    "We use matplotlib.pyplot (plt) to set the dimensions of our graph and to give it a title and x and y axis labels.\n",
    "Title: \"How blood pressure has varied in different countries between 1975 and 2015\""
   ]
  },
  {
   "cell_type": "code",
   "execution_count": null,
   "id": "ecc49e8f",
   "metadata": {},
   "outputs": [],
   "source": []
  },
  {
   "cell_type": "markdown",
   "id": "851bd127",
   "metadata": {},
   "source": [
    "### Function 2: Setting the year xticks in increments of 5"
   ]
  },
  {
   "cell_type": "code",
   "execution_count": null,
   "id": "1186f896",
   "metadata": {},
   "outputs": [],
   "source": []
  },
  {
   "cell_type": "code",
   "execution_count": null,
   "id": "4ba7ac88",
   "metadata": {},
   "outputs": [],
   "source": []
  },
  {
   "cell_type": "markdown",
   "id": "aa2ba34a",
   "metadata": {},
   "source": [
    "# Using seaborn (sns) lineplot method"
   ]
  },
  {
   "cell_type": "markdown",
   "id": "de9f9225",
   "metadata": {},
   "source": [
    "To plot a line graph, an option is to use the seaborn lineplot method. The kwarg is data, where you pass the dataframe you would like to plot. The data must be correctly formatted with the variabel you wish to be on the x-axis being in the rows of the dataframe."
   ]
  },
  {
   "cell_type": "code",
   "execution_count": null,
   "id": "0ad76c22",
   "metadata": {},
   "outputs": [],
   "source": []
  }
 ],
 "metadata": {
  "kernelspec": {
   "display_name": "Python 3 (ipykernel)",
   "language": "python",
   "name": "python3"
  },
  "language_info": {
   "codemirror_mode": {
    "name": "ipython",
    "version": 3
   },
   "file_extension": ".py",
   "mimetype": "text/x-python",
   "name": "python",
   "nbconvert_exporter": "python",
   "pygments_lexer": "ipython3",
   "version": "3.9.5"
  }
 },
 "nbformat": 4,
 "nbformat_minor": 5
}
