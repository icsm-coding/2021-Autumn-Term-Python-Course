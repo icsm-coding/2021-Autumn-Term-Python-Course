{
 "cells": [
  {
   "cell_type": "markdown",
   "id": "98f26aa1",
   "metadata": {},
   "source": [
    "<h1><center> Data Visualisation Workbook </font></center></h1>\n",
    "<h3>Hello everyone! This is a workbook designed to put the knowledge you've learnt about data cleaning and visualisation into practice :) </h3>\n",
    "\n",
    "<h2> Downloading the data</h2>\n",
    "<p>To start things off, we first need to download the dataset that you will be using and modifying. The dataset provided to you,uses real-world data on the effect alcohol has on dementia risk, throughout the world. Hopefully by the end of this workbook you'll be able to notice patterns and trends within the data and even think about the possibilities as to why these trends might occur! <br><br><b> The link to the dataset is: </b> <a href=\"https://github.com/charlieblindsay/icsm/blob/master/blood_pressure.ipynb\">here</a>\n",
    "<br><br> This link should take you to the dataset/file we want you to be working with, which is part of the GitHub repository for ICSM Coding.<br> Download the ALCOHOL dataset onto your computer, and store it in a place which you know you can easily access. This could be through making your own folder in your documents. </p>"
   ]
  },
  {
   "cell_type": "markdown",
   "id": "5f6f84b0",
   "metadata": {},
   "source": [
    "<p>------------------------------------------------------------------------------------------------------------------------------------------------------------------------------------------------------------</p>\n",
    "<h2> Contents for Instructions </h2>\n",
    "\n",
    "   <ol>\n",
    "       <li>Installing relevant python packages</li>\n",
    "       <li>Importing relevant python packages</li>\n",
    "       <li>Opening the dataset</li>\n",
    "       <li>Cleaning the dataset</li>\n",
    "       <li>Transposing dataset to Seaborn format</li>\n",
    "       <li>Creating plots from the dataset</li>\n"
   ]
  },
  {
   "cell_type": "markdown",
   "id": "a808f600",
   "metadata": {},
   "source": [
    "<p>------------------------------------------------------------------------------------------------------------------------------------------------------------------------------------------------------------</p>\n",
    "<h2>1.0 Installing Relevant Python Packages </h2>\n",
    "\n",
    "<p> Before starting to work on any sort of code on python, it is very important to install the relevant python packages you might need to work with in order for your code to work. Each of these packages have a set of tools that can execute different functions that might not have been otherwise available in basic python. <br><br> To work with data-sets the <b>most common </b> packages that need to be installed are:\n",
    "    <ul>\n",
    "        <li><b>Numpy </b>(to work with numbers)</li>\n",
    "        <li><b>matplotlib </b>(to make basic graphs/ plots)</li>\n",
    "        <li><b>pandas </b>(to manipulate datasets)</li>\n",
    "        <li><b>seaborn </b>(to make more advanced graphs/ plots)</li>\n",
    "    </ul>\n",
    "\n",
    "<br>\n",
    "<b>In the code cell below, can you please install the above 4 python packages we will be using:</b> </p>"
   ]
  },
  {
   "cell_type": "code",
   "execution_count": 1,
   "id": "acec6b36",
   "metadata": {},
   "outputs": [
    {
     "name": "stdout",
     "output_type": "stream",
     "text": [
      "Requirement already satisfied: numpy in /home/charlie/.local/lib/python3.8/site-packages (1.21.2)\n",
      "Requirement already satisfied: matplotlib in /home/charlie/.local/lib/python3.8/site-packages (3.4.3)\n",
      "Requirement already satisfied: kiwisolver>=1.0.1 in /home/charlie/.local/lib/python3.8/site-packages (from matplotlib) (1.3.1)\n",
      "Requirement already satisfied: pyparsing>=2.2.1 in /home/charlie/.local/lib/python3.8/site-packages (from matplotlib) (2.4.7)\n",
      "Requirement already satisfied: pillow>=6.2.0 in /home/charlie/.local/lib/python3.8/site-packages (from matplotlib) (8.3.1)\n",
      "Requirement already satisfied: numpy>=1.16 in /home/charlie/.local/lib/python3.8/site-packages (from matplotlib) (1.21.2)\n",
      "Requirement already satisfied: cycler>=0.10 in /home/charlie/.local/lib/python3.8/site-packages (from matplotlib) (0.10.0)\n",
      "Requirement already satisfied: python-dateutil>=2.7 in /usr/lib/python3/dist-packages (from matplotlib) (2.7.3)\n",
      "Requirement already satisfied: six in /usr/lib/python3/dist-packages (from cycler>=0.10->matplotlib) (1.14.0)\n",
      "Requirement already satisfied: pandas in /home/charlie/.local/lib/python3.8/site-packages (1.3.2)\n",
      "Requirement already satisfied: python-dateutil>=2.7.3 in /usr/lib/python3/dist-packages (from pandas) (2.7.3)\n",
      "Requirement already satisfied: numpy>=1.17.3 in /home/charlie/.local/lib/python3.8/site-packages (from pandas) (1.21.2)\n",
      "Requirement already satisfied: pytz>=2017.3 in /home/charlie/.local/lib/python3.8/site-packages (from pandas) (2021.1)\n",
      "Requirement already satisfied: sns in /home/charlie/.local/lib/python3.8/site-packages (0.1)\n"
     ]
    }
   ],
   "source": [
    "import sys\n",
    "!{sys.executable} -m pip install numpy\n",
    "!{sys.executable} -m pip install matplotlib\n",
    "!{sys.executable} -m pip install pandas\n",
    "!{sys.executable} -m pip install sns"
   ]
  },
  {
   "cell_type": "markdown",
   "id": "6aa48ffa",
   "metadata": {},
   "source": [
    "<p>------------------------------------------------------------------------------------------------------------------------------------------------------------------------------------------------------------</p>\n",
    "<h2> 2.0 Importing relevant Python packages </h2>\n",
    "\n",
    "<p> Now that we've successfully installed the packages, we need to import them onto this workbook for us to use. This allows us to access these packages and actually use them in our code. Everytime you make a separate python file, you should be importing the relevant packages.\n",
    "    \n",
    "<br><b> In the cell below, can you import: </b>\n",
    "    <ul>\n",
    "        <li>numpy as np</li>\n",
    "        <li>pandas as pd</li>\n",
    "        <li>matplotlib.pyplot as plt</li>\n",
    "        <li>seaborn as sns</li>\n",
    "    </ul>\n",
    "\n",
    "</p>"
   ]
  },
  {
   "cell_type": "code",
   "execution_count": 2,
   "id": "a68bff03",
   "metadata": {},
   "outputs": [],
   "source": [
    "import pandas as pd\n",
    "import numpy as np\n",
    "import matplotlib.pyplot as plt\n",
    "import seaborn as sns"
   ]
  },
  {
   "cell_type": "markdown",
   "id": "f2db4f59",
   "metadata": {},
   "source": [
    "<p>------------------------------------------------------------------------------------------------------------------------------------------------------------------------------------------------------------</p>\n",
    "<h2>3.0 Opening the dataset</h2>\n",
    "<p>Now that we've got python ready to code with, and we've downloaded the alcohol dataset onto our computer, we now need to open and read that dataset onto python. For the dataset to load on python, it HAS to be in a <b>comma separated value (csv)</b> format.<br><br>Before opening the dataset you need to know what the current working directory is, and change it to the directory in which you have saved the alcohol dataset csv file. The current working directory is basically the 'path' or the area of your computer that your jupyter notebook will be searching into. So it is important to specify which directory you want the jupyter to look in order to find the file you need to open.<br><br> A working directory should be in the format of: C:\\Users\\your_name\\ ....<br><br><b>There are multiple different ways to open a dataset on python however, we would like you to focus on using pandas for now. There are 2 coding cells below. <br><br>In cell 1 can you:\n",
    "<ol>\n",
    "    <li>import os</li>\n",
    "    <li>change the working directory to the directory you have saved the alcohol dataset in</li>\n",
    "</ol>\n",
    "<br>\n",
    "In cell 2 can you:\n",
    "    <ol>\n",
    "        <li>use pandas to read the csv</li>\n",
    "        <li>open the csv</li>\n",
    "    </ol>\n",
    "</b></p>"
   ]
  },
  {
   "cell_type": "code",
   "execution_count": null,
   "id": "7640596f",
   "metadata": {},
   "outputs": [],
   "source": []
  },
  {
   "cell_type": "markdown",
   "id": "9e2acc6d",
   "metadata": {},
   "source": [
    "<p>------------------------------------------------------------------------------------------------------------------------------------------------------------------------------------------------------------</p>\n",
    "<h2>4.0 Cleaning the dataset</h2>\n",
    "\n",
    "<h3>Renaming the columns</h3>\n",
    "<p>The raw dataset looks a bit messy, and is definitely not in a state to appropriately work with. We have column headings with 'unnamed' which doesn't add any useful information, and we don't need long sentences for column headings when we're trying to manipulate the data. <br> To clean it up, we want to first remove the top heading row, and make row 0 the new set of headings. This will clearly set the data out to show values for each country in each year between 2000 and 2009. <br><br><b> In the cell below can you set the dataframe's column headings equal row 0?</b> Make sure to re-run the dataframe</p>"
   ]
  },
  {
   "cell_type": "code",
   "execution_count": null,
   "id": "9897e17e",
   "metadata": {},
   "outputs": [],
   "source": []
  },
  {
   "cell_type": "markdown",
   "id": "76af3b53",
   "metadata": {},
   "source": [
    "<p>Now that we have copied row 0 as the column headings, we need to remove row 0 from the dataset, making the current 'row 1' as the first row below the headings.</p><br>\n",
    "<h4>Can you remove row 0 from the dataset?</h4>"
   ]
  },
  {
   "cell_type": "code",
   "execution_count": null,
   "id": "12774e75",
   "metadata": {},
   "outputs": [],
   "source": []
  },
  {
   "cell_type": "markdown",
   "id": "1a27ac45",
   "metadata": {},
   "source": [
    "<p> For some reason, the years in the column headings have an extra decimal point which is <i>slightly</i> unnecessary.</p> <br>\n",
    "<h4><b> Could you update the headers so that the years 2000 - 2009 do not contain the extra decimal point?</b></h4>"
   ]
  },
  {
   "cell_type": "code",
   "execution_count": null,
   "id": "c3ff24c8",
   "metadata": {},
   "outputs": [],
   "source": []
  },
  {
   "cell_type": "markdown",
   "id": "8f1f35e4",
   "metadata": {},
   "source": [
    "<p> We also have a 'data source' column next to the country column, which we dont need.</p>\n",
    "<br><h4>In the cell below, can you remove the data source column given its unneeded?</h4>"
   ]
  },
  {
   "cell_type": "code",
   "execution_count": null,
   "id": "e3fb1929",
   "metadata": {},
   "outputs": [],
   "source": [
    "df=df.drop(['Data Source'], axis= 1)\n",
    "df"
   ]
  },
  {
   "cell_type": "markdown",
   "id": "a21c2da5",
   "metadata": {},
   "source": [
    "<p>For some countries, some of the data values are written as 'NaN'. This is a shorthand for 'Not a Number', rather than a nanny! These values can't be interpreted, so ideally they need to be removed so that we are working with rows that have numbers only.<br></p>\n",
    "<h4><b>In the cell below, could you update the dataset so all the rows that have NaN in them are removed?</b></h4>"
   ]
  },
  {
   "cell_type": "code",
   "execution_count": null,
   "id": "acb9ef96",
   "metadata": {},
   "outputs": [],
   "source": [
    "df= df.dropna()\n",
    "df"
   ]
  },
  {
   "cell_type": "markdown",
   "id": "28108966",
   "metadata": {},
   "source": [
    "<h4>Now that we've gotten a cleaned overall dataset, we can create a new dataframe from it that focuses on the rows and columns that we want to work with specifically.</h4>\n",
    "\n",
    "<p>For example, lets say, we only want to work with the data values for the beer beverage type and not the others. Or we only want to analyse the data for 'all beverages' rather than each of them separately. To make things clearer we can cut down the dataset and make a new dataframe containing <b>only</b> the information that we need.<br><br><b>In the cell below can you write some code to create a new dataframe (call it df_beer) that contains the rows showing data on dementia risk when consuming beer for all countries, through all the years?</p>"
   ]
  },
  {
   "cell_type": "code",
   "execution_count": null,
   "id": "48d19700",
   "metadata": {},
   "outputs": [],
   "source": []
  },
  {
   "cell_type": "markdown",
   "id": "d408c43a",
   "metadata": {},
   "source": [
    "<p>We now have this condensed dataset, but the index (ie first column) are the row numbers, which we don't need. <br><br> <b>Can you write some code to make the 'Country' column the index/first column of the dataset instead?</b></p>"
   ]
  },
  {
   "cell_type": "code",
   "execution_count": null,
   "id": "6b69962f",
   "metadata": {},
   "outputs": [],
   "source": []
  },
  {
   "cell_type": "markdown",
   "id": "ce3ae0e6",
   "metadata": {},
   "source": [
    "<p>------------------------------------------------------------------------------------------------------------------------------------------------------------------------------------------------------------</p>\n",
    "\n",
    "<h2>5.0 Transposing the dataset into Seaborn format</h2>"
   ]
  },
  {
   "cell_type": "markdown",
   "id": "84e7a1f0",
   "metadata": {},
   "source": [
    "<p> Now we have a nicely cleaned, condensed and organised dataset that we can analyse. Seaborn is a python data visualisation library that allows you to produce really pretty, colourful statistical analyses ( via graphs, charts and other cool complex diagrams). <br><br>Theres an <a href= 'https://seaborn.pydata.org/examples/index.html'>example gallery</a> seaborn has on their website if you want to check out some graphs you could make! However for Seaborn to do its magic, we need to transpose the dataset (reformat it) to the way seaborn wants the datasets to be.<br><br> Luckily for us, its a very simple short piece of code! <br><br> <b> In the cell below can you transpose the dataset (df_beer) to make it compatible with Seaborn? </b></p>"
   ]
  },
  {
   "cell_type": "code",
   "execution_count": null,
   "id": "9cb8264f",
   "metadata": {},
   "outputs": [],
   "source": []
  },
  {
   "cell_type": "markdown",
   "id": "936f951a",
   "metadata": {},
   "source": [
    "<p>------------------------------------------------------------------------------------------------------------------------------------------------------------------------------------------------------------</p>\n",
    "<h2>6.0 Creating plots from the dataset</h2>\n",
    "<p>Now that we have our table in seaborn format, we can get started with making some graphs with Seaborn!<br>Let's start off with making a line graph.<br><r> Alcohol consumption very much varies between countries (due to cultural and societal reasons mainly), and is one of the potential risk factors for developing dementia. <br><br><b>Can you create a line plot showing the trend of alcohol consumption on dementia risk in 4 countries of your choice within the dataset (df_beer), between 2000-2009?<br>If you are feeling confident, could you add a graph title, axis titles and a key (legend)?</b></p>"
   ]
  },
  {
   "cell_type": "code",
   "execution_count": null,
   "id": "ab9c4ed7",
   "metadata": {},
   "outputs": [],
   "source": []
  },
  {
   "cell_type": "markdown",
   "id": "053facd9",
   "metadata": {},
   "source": [
    "<p>We can also make bar charts from this data: <br><br><b>Can you make a bar chart showing the risk of dementia via each alcoholic beverage (excluding all types) in 2008 and 2009 (both in the same graph)?</b></p>"
   ]
  },
  {
   "cell_type": "code",
   "execution_count": null,
   "id": "d4271398",
   "metadata": {},
   "outputs": [],
   "source": []
  },
  {
   "cell_type": "markdown",
   "id": "6e465512",
   "metadata": {},
   "source": [
    "<h2>..and that's it for this workbook!</h2>\n",
    "<h4> I hope you have enjoyed going through this section of the python course - being able to analyse data through code can really broaden your horizons when it comes to data visualisation, and can really help with making your research data (if you are to undertake research) much more appealing! </h4><br>\n",
    "    <p>Video solutions to this workbook will be available on the website under section 7.</p>"
   ]
  }
 ],
 "metadata": {
  "kernelspec": {
   "display_name": "Python 3 (ipykernel)",
   "language": "python",
   "name": "python3"
  },
  "language_info": {
   "codemirror_mode": {
    "name": "ipython",
    "version": 3
   },
   "file_extension": ".py",
   "mimetype": "text/x-python",
   "name": "python",
   "nbconvert_exporter": "python",
   "pygments_lexer": "ipython3",
   "version": "3.8.10"
  }
 },
 "nbformat": 4,
 "nbformat_minor": 5
}
